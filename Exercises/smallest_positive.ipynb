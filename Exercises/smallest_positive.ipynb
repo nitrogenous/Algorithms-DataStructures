{
 "cells": [
  {
   "cell_type": "code",
   "execution_count": 2,
   "metadata": {},
   "outputs": [
    {
     "name": "stdout",
     "output_type": "stream",
     "text": [
      "2\n",
      "0.2\n",
      "None\n",
      "None\n"
     ]
    }
   ],
   "source": [
    "def smallest_positive (numbers):\n",
    "    smallestValue = None\n",
    "    \n",
    "    for number in numbers:\n",
    "        if number > 0:\n",
    "            if smallestValue == None or number < smallestValue:\n",
    "                smallestValue = number\n",
    "\n",
    "    return smallestValue\n",
    "\n",
    "#Test cases\n",
    "\n",
    "print(smallest_positive([4, -6, 7, 2, -4, 10]))\n",
    "# Correct output: 2\n",
    "\n",
    "print(smallest_positive([.2, 5, 3, -.1, 7, 7, 6]))\n",
    "# Correct output: 0.2\n",
    "\n",
    "print(smallest_positive([-6, -9, -7]))\n",
    "# Correct output: None\n",
    "\n",
    "print(smallest_positive([]))\n",
    "# Correct output: None"
   ]
  },
  {
   "cell_type": "code",
   "execution_count": null,
   "metadata": {},
   "outputs": [],
   "source": []
  }
 ],
 "metadata": {
  "kernelspec": {
   "display_name": "Python 3",
   "language": "python",
   "name": "python3"
  },
  "language_info": {
   "codemirror_mode": {
    "name": "ipython",
    "version": 3
   },
   "file_extension": ".py",
   "mimetype": "text/x-python",
   "name": "python",
   "nbconvert_exporter": "python",
   "pygments_lexer": "ipython3",
   "version": "3.6.8"
  }
 },
 "nbformat": 4,
 "nbformat_minor": 4
}
