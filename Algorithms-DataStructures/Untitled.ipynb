{
 "cells": [
  {
   "cell_type": "code",
   "execution_count": 19,
   "metadata": {},
   "outputs": [
    {
     "name": "stdout",
     "output_type": "stream",
     "text": [
      "2\n",
      "0.2\n",
      "-6\n",
      "0\n"
     ]
    }
   ],
   "source": [
    "def smallest_positive(in_list):\n",
    "    # TODO: Define a control structure that finds the smallest positive\n",
    "    # number in in_list and returns the correct smallest number.\n",
    "    \n",
    "    smallestValue = 0\n",
    "    \n",
    "    if len(in_list) > 0: \n",
    "        smallestValue = in_list[0]\n",
    "        for value in in_list:\n",
    "            if value >= 0 and value <= smallestValue:\n",
    "                smallestValue = value\n",
    "        \n",
    "    return smallestValue or 0\n",
    "\n",
    "# Test cases\n",
    "\n",
    "print(smallest_positive([4, -6, 7, 2, -4, 10]))\n",
    "# Correct output: 2\n",
    "\n",
    "print(smallest_positive([.2, 5, 3, -.1, 7, 7, 6]))\n",
    "# Correct output: 0.2\n",
    "\n",
    "print(smallest_positive([-6, -9, -7]))\n",
    "# Correct output: None\n",
    "\n",
    "print(smallest_positive([]))\n",
    "# Correct output: None"
   ]
  },
  {
   "cell_type": "code",
   "execution_count": null,
   "metadata": {},
   "outputs": [],
   "source": []
  }
 ],
 "metadata": {
  "kernelspec": {
   "display_name": "Python 3",
   "language": "python",
   "name": "python3"
  },
  "language_info": {
   "codemirror_mode": {
    "name": "ipython",
    "version": 3
   },
   "file_extension": ".py",
   "mimetype": "text/x-python",
   "name": "python",
   "nbconvert_exporter": "python",
   "pygments_lexer": "ipython3",
   "version": "3.6.8"
  }
 },
 "nbformat": 4,
 "nbformat_minor": 4
}
